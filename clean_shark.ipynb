{
 "cells": [
  {
   "cell_type": "code",
   "execution_count": 423,
   "metadata": {},
   "outputs": [],
   "source": [
    "import pandas as pd\n",
    "import numpy as np\n",
    "\n",
    "import re\n",
    "\n",
    "from datetime import datetime"
   ]
  },
  {
   "cell_type": "code",
   "execution_count": 424,
   "metadata": {},
   "outputs": [],
   "source": [
    "shark = pd.read_csv('attacks.csv',encoding = \"latin-1\")\n",
    "#shark = pd.read_csv('attacks.csv')\n",
    "#shark.head()"
   ]
  },
  {
   "cell_type": "code",
   "execution_count": 427,
   "metadata": {},
   "outputs": [
    {
     "data": {
      "text/plain": [
       "(25723, 24)"
      ]
     },
     "execution_count": 427,
     "metadata": {},
     "output_type": "execute_result"
    }
   ],
   "source": [
    "shark.shape"
   ]
  },
  {
   "cell_type": "code",
   "execution_count": 428,
   "metadata": {},
   "outputs": [
    {
     "data": {
      "text/plain": [
       "Index(['Case Number', 'Date', 'Year', 'Type', 'Country', 'Area', 'Location',\n",
       "       'Activity', 'Name', 'Sex ', 'Age', 'Injury', 'Fatal (Y/N)', 'Time',\n",
       "       'Species ', 'Investigator or Source', 'pdf', 'href formula', 'href',\n",
       "       'Case Number.1', 'Case Number.2', 'original order', 'Unnamed: 22',\n",
       "       'Unnamed: 23'],\n",
       "      dtype='object')"
      ]
     },
     "execution_count": 428,
     "metadata": {},
     "output_type": "execute_result"
    }
   ],
   "source": [
    "shark.columns"
   ]
  },
  {
   "cell_type": "code",
   "execution_count": 429,
   "metadata": {},
   "outputs": [
    {
     "data": {
      "text/plain": [
       "Case Number                object\n",
       "Date                       object\n",
       "Year                      float64\n",
       "Type                       object\n",
       "Country                    object\n",
       "Area                       object\n",
       "Location                   object\n",
       "Activity                   object\n",
       "Name                       object\n",
       "Sex                        object\n",
       "Age                        object\n",
       "Injury                     object\n",
       "Fatal (Y/N)                object\n",
       "Time                       object\n",
       "Species                    object\n",
       "Investigator or Source     object\n",
       "pdf                        object\n",
       "href formula               object\n",
       "href                       object\n",
       "Case Number.1              object\n",
       "Case Number.2              object\n",
       "original order            float64\n",
       "Unnamed: 22                object\n",
       "Unnamed: 23                object\n",
       "dtype: object"
      ]
     },
     "execution_count": 429,
     "metadata": {},
     "output_type": "execute_result"
    }
   ],
   "source": [
    "shark.dtypes"
   ]
  },
  {
   "cell_type": "code",
   "execution_count": 430,
   "metadata": {},
   "outputs": [
    {
     "data": {
      "text/plain": [
       "Case Number               17021\n",
       "Date                      19421\n",
       "Year                      19423\n",
       "Type                      19425\n",
       "Country                   19471\n",
       "Area                      19876\n",
       "Location                  19961\n",
       "Activity                  19965\n",
       "Name                      19631\n",
       "Sex                       19986\n",
       "Age                       22252\n",
       "Injury                    19449\n",
       "Fatal (Y/N)               19960\n",
       "Time                      22775\n",
       "Species                   22259\n",
       "Investigator or Source    19438\n",
       "pdf                       19421\n",
       "href formula              19422\n",
       "href                      19421\n",
       "Case Number.1             19421\n",
       "Case Number.2             19421\n",
       "original order            19414\n",
       "Unnamed: 22               25722\n",
       "Unnamed: 23               25721\n",
       "dtype: int64"
      ]
     },
     "execution_count": 430,
     "metadata": {},
     "output_type": "execute_result"
    }
   ],
   "source": [
    "columnas_nulas=shark.isnull().sum()\n",
    "columnas_nulas[columnas_nulas>0]"
   ]
  },
  {
   "cell_type": "code",
   "execution_count": 431,
   "metadata": {},
   "outputs": [
    {
     "name": "stdout",
     "output_type": "stream",
     "text": [
      "(25723, 24)\n"
     ]
    }
   ],
   "source": [
    "print(shark.shape)"
   ]
  },
  {
   "cell_type": "code",
   "execution_count": 432,
   "metadata": {},
   "outputs": [
    {
     "data": {
      "text/plain": [
       "Index(['Case Number', 'Date', 'Year', 'Type', 'Country', 'Area', 'Location',\n",
       "       'Activity', 'Name', 'Sex ', 'Age', 'Injury', 'Fatal (Y/N)', 'Time',\n",
       "       'Species '],\n",
       "      dtype='object')"
      ]
     },
     "execution_count": 432,
     "metadata": {},
     "output_type": "execute_result"
    }
   ],
   "source": [
    "#Se eliminan las siguientes columnas porque no aportan informacion importante o relevante.\n",
    "\n",
    "shark_copy = shark.drop(['Investigator or Source', 'pdf', 'href formula', 'href', 'Case Number.1', 'original order', 'Unnamed: 22', 'Unnamed: 23','Case Number.2'], axis=1)\n",
    "shark_copy.columns"
   ]
  },
  {
   "cell_type": "code",
   "execution_count": 433,
   "metadata": {},
   "outputs": [
    {
     "name": "stdout",
     "output_type": "stream",
     "text": [
      "(25723, 15)\n"
     ]
    }
   ],
   "source": [
    "print(shark_copy.shape)\n",
    "#columnas_a_eliminar = list(columnas_nulas[columnas_nulas>10000].index)\n",
    "#data = data.drop(columnas_a_eliminar, axis = 1)\n",
    "#print(data.shape)"
   ]
  },
  {
   "cell_type": "code",
   "execution_count": 434,
   "metadata": {},
   "outputs": [
    {
     "data": {
      "text/plain": [
       "Case Number     object\n",
       "Date            object\n",
       "Year           float64\n",
       "Type            object\n",
       "Country         object\n",
       "Area            object\n",
       "Location        object\n",
       "Activity        object\n",
       "Name            object\n",
       "Sex             object\n",
       "Age             object\n",
       "Injury          object\n",
       "Fatal (Y/N)     object\n",
       "Time            object\n",
       "Species         object\n",
       "dtype: object"
      ]
     },
     "execution_count": 434,
     "metadata": {},
     "output_type": "execute_result"
    }
   ],
   "source": [
    "shark_copy.dtypes"
   ]
  },
  {
   "cell_type": "markdown",
   "metadata": {},
   "source": [
    "## Limpieza de nombre en columnas\n",
    "\n",
    "\n",
    "Se eliminan los espacios de los nombres y se colocan guiones en donde existan.\n",
    "\n",
    "Se cambia el tipo de variables"
   ]
  },
  {
   "cell_type": "code",
   "execution_count": 435,
   "metadata": {},
   "outputs": [],
   "source": [
    "shark_copy['Year'] = shark_copy['Year'].astype('object')"
   ]
  },
  {
   "cell_type": "code",
   "execution_count": 436,
   "metadata": {},
   "outputs": [
    {
     "data": {
      "text/plain": [
       "Case Number    object\n",
       "Date           object\n",
       "Year           object\n",
       "Type           object\n",
       "Country        object\n",
       "Area           object\n",
       "Location       object\n",
       "Activity       object\n",
       "Name           object\n",
       "Sex            object\n",
       "Age            object\n",
       "Injury         object\n",
       "Fatal (Y/N)    object\n",
       "Time           object\n",
       "Species        object\n",
       "dtype: object"
      ]
     },
     "execution_count": 436,
     "metadata": {},
     "output_type": "execute_result"
    }
   ],
   "source": [
    "shark_copy.dtypes"
   ]
  },
  {
   "cell_type": "markdown",
   "metadata": {},
   "source": [
    "Se quitan los espacios de los nombres de las columnas"
   ]
  },
  {
   "cell_type": "code",
   "execution_count": 437,
   "metadata": {},
   "outputs": [
    {
     "data": {
      "text/plain": [
       "Index(['Case Number', 'Date', 'Year', 'Type', 'Country', 'Area', 'Location',\n",
       "       'Activity', 'Name', 'Sex ', 'Age', 'Injury', 'Fatal (Y/N)', 'Time',\n",
       "       'Species '],\n",
       "      dtype='object')"
      ]
     },
     "execution_count": 437,
     "metadata": {},
     "output_type": "execute_result"
    }
   ],
   "source": [
    "column_names=shark_copy.columns\n",
    "column_names"
   ]
  },
  {
   "cell_type": "code",
   "execution_count": 438,
   "metadata": {},
   "outputs": [
    {
     "data": {
      "text/plain": [
       "Index(['Case Number', 'Date', 'Year', 'Type', 'Country', 'Area', 'Location',\n",
       "       'Activity', 'Name', 'Sex', 'Age', 'Injury', 'Fatal (Y/N)', 'Time',\n",
       "       'Species'],\n",
       "      dtype='object')"
      ]
     },
     "execution_count": 438,
     "metadata": {},
     "output_type": "execute_result"
    }
   ],
   "source": [
    "shark_copy.columns=shark_copy.columns.str.strip()\n",
    "shark_copy.columns"
   ]
  },
  {
   "cell_type": "markdown",
   "metadata": {},
   "source": [
    "Cambiamos el nombre de las columnas"
   ]
  },
  {
   "cell_type": "code",
   "execution_count": 439,
   "metadata": {},
   "outputs": [
    {
     "data": {
      "text/plain": [
       "Index(['Case-Number', 'Date', 'Year', 'Type', 'Country', 'Area', 'Location',\n",
       "       'Activity', 'Name', 'Sex', 'Age', 'Injury', 'Fatal', 'Time', 'Species'],\n",
       "      dtype='object')"
      ]
     },
     "execution_count": 439,
     "metadata": {},
     "output_type": "execute_result"
    }
   ],
   "source": [
    "shark_copy = shark_copy.rename(columns = {'Case Number':'Case-Number','Fatal (Y/N)':'Fatal'})\n",
    "shark_copy.columns"
   ]
  },
  {
   "cell_type": "markdown",
   "metadata": {},
   "source": [
    "## Tratamiento a columnas \n",
    "\n",
    "### Time"
   ]
  },
  {
   "cell_type": "code",
   "execution_count": 440,
   "metadata": {},
   "outputs": [],
   "source": [
    "##Quitar los que tienen letras y NaN. Usar regex para solo filtar '\\d\\dh\\d\\d'\n",
    "#shark.Time.unique()"
   ]
  },
  {
   "cell_type": "code",
   "execution_count": 442,
   "metadata": {},
   "outputs": [],
   "source": [
    "shark_copy.dropna(subset = [\"Time\"], inplace=True)\n",
    "#shark_copy.Time.unique()"
   ]
  },
  {
   "cell_type": "code",
   "execution_count": 444,
   "metadata": {},
   "outputs": [
    {
     "data": {
      "text/plain": [
       "(2948, 15)"
      ]
     },
     "execution_count": 444,
     "metadata": {},
     "output_type": "execute_result"
    }
   ],
   "source": [
    "shark_copy.shape"
   ]
  },
  {
   "cell_type": "code",
   "execution_count": 450,
   "metadata": {},
   "outputs": [],
   "source": [
    "shark_copy2=shark_copy"
   ]
  },
  {
   "cell_type": "code",
   "execution_count": 451,
   "metadata": {},
   "outputs": [
    {
     "data": {
      "text/plain": [
       "(2948, 15)"
      ]
     },
     "execution_count": 451,
     "metadata": {},
     "output_type": "execute_result"
    }
   ],
   "source": [
    "shark_copy2.shape"
   ]
  },
  {
   "cell_type": "code",
   "execution_count": 452,
   "metadata": {},
   "outputs": [],
   "source": [
    "shark_copy2['Time'] = shark_copy2['Time'].astype('string')"
   ]
  },
  {
   "cell_type": "code",
   "execution_count": 465,
   "metadata": {},
   "outputs": [],
   "source": [
    "shark_copy3=shark_copy2[shark_copy2.Time.str.contains(\"['\\d\\dh\\d\\d']\")]"
   ]
  },
  {
   "cell_type": "code",
   "execution_count": 467,
   "metadata": {},
   "outputs": [
    {
     "data": {
      "text/plain": [
       "(2948, 15)"
      ]
     },
     "execution_count": 467,
     "metadata": {},
     "output_type": "execute_result"
    }
   ],
   "source": [
    "shark_copy2.shape"
   ]
  },
  {
   "cell_type": "code",
   "execution_count": 466,
   "metadata": {},
   "outputs": [
    {
     "data": {
      "text/plain": [
       "(2456, 15)"
      ]
     },
     "execution_count": 466,
     "metadata": {},
     "output_type": "execute_result"
    }
   ],
   "source": [
    "shark_copy3.shape"
   ]
  },
  {
   "cell_type": "code",
   "execution_count": 469,
   "metadata": {},
   "outputs": [
    {
     "data": {
      "text/html": [
       "<div>\n",
       "<style scoped>\n",
       "    .dataframe tbody tr th:only-of-type {\n",
       "        vertical-align: middle;\n",
       "    }\n",
       "\n",
       "    .dataframe tbody tr th {\n",
       "        vertical-align: top;\n",
       "    }\n",
       "\n",
       "    .dataframe thead th {\n",
       "        text-align: right;\n",
       "    }\n",
       "</style>\n",
       "<table border=\"1\" class=\"dataframe\">\n",
       "  <thead>\n",
       "    <tr style=\"text-align: right;\">\n",
       "      <th></th>\n",
       "      <th>Case-Number</th>\n",
       "      <th>Date</th>\n",
       "      <th>Year</th>\n",
       "      <th>Type</th>\n",
       "      <th>Country</th>\n",
       "      <th>Area</th>\n",
       "      <th>Location</th>\n",
       "      <th>Activity</th>\n",
       "      <th>Name</th>\n",
       "      <th>Sex</th>\n",
       "      <th>Age</th>\n",
       "      <th>Injury</th>\n",
       "      <th>Fatal</th>\n",
       "      <th>Time</th>\n",
       "      <th>Species</th>\n",
       "    </tr>\n",
       "  </thead>\n",
       "  <tbody>\n",
       "    <tr>\n",
       "      <th>0</th>\n",
       "      <td>2018.06.25</td>\n",
       "      <td>25-Jun-2018</td>\n",
       "      <td>2018</td>\n",
       "      <td>Boating</td>\n",
       "      <td>USA</td>\n",
       "      <td>California</td>\n",
       "      <td>Oceanside, San Diego County</td>\n",
       "      <td>Paddling</td>\n",
       "      <td>Julie Wolfe</td>\n",
       "      <td>F</td>\n",
       "      <td>57</td>\n",
       "      <td>No injury to occupant, outrigger canoe and pad...</td>\n",
       "      <td>N</td>\n",
       "      <td>18h00</td>\n",
       "      <td>White shark</td>\n",
       "    </tr>\n",
       "    <tr>\n",
       "      <th>1</th>\n",
       "      <td>2018.06.18</td>\n",
       "      <td>18-Jun-2018</td>\n",
       "      <td>2018</td>\n",
       "      <td>Unprovoked</td>\n",
       "      <td>USA</td>\n",
       "      <td>Georgia</td>\n",
       "      <td>St. Simon Island, Glynn County</td>\n",
       "      <td>Standing</td>\n",
       "      <td>Adyson McNeely</td>\n",
       "      <td>F</td>\n",
       "      <td>11</td>\n",
       "      <td>Minor injury to left thigh</td>\n",
       "      <td>N</td>\n",
       "      <td>14h00  -15h00</td>\n",
       "      <td>NaN</td>\n",
       "    </tr>\n",
       "    <tr>\n",
       "      <th>2</th>\n",
       "      <td>2018.06.09</td>\n",
       "      <td>09-Jun-2018</td>\n",
       "      <td>2018</td>\n",
       "      <td>Invalid</td>\n",
       "      <td>USA</td>\n",
       "      <td>Hawaii</td>\n",
       "      <td>Habush, Oahu</td>\n",
       "      <td>Surfing</td>\n",
       "      <td>John Denges</td>\n",
       "      <td>M</td>\n",
       "      <td>48</td>\n",
       "      <td>Injury to left lower leg from surfboard skeg</td>\n",
       "      <td>N</td>\n",
       "      <td>07h45</td>\n",
       "      <td>NaN</td>\n",
       "    </tr>\n",
       "    <tr>\n",
       "      <th>8</th>\n",
       "      <td>2018.05.26.b</td>\n",
       "      <td>26-May-2018</td>\n",
       "      <td>2018</td>\n",
       "      <td>Unprovoked</td>\n",
       "      <td>USA</td>\n",
       "      <td>Florida</td>\n",
       "      <td>Cocoa Beach, Brevard  County</td>\n",
       "      <td>Walking</td>\n",
       "      <td>Cody High</td>\n",
       "      <td>M</td>\n",
       "      <td>15</td>\n",
       "      <td>Lower left leg bitten</td>\n",
       "      <td>N</td>\n",
       "      <td>17h00</td>\n",
       "      <td>Bull shark, 6'</td>\n",
       "    </tr>\n",
       "    <tr>\n",
       "      <th>9</th>\n",
       "      <td>2018.05.26.a</td>\n",
       "      <td>26-May-2018</td>\n",
       "      <td>2018</td>\n",
       "      <td>Unprovoked</td>\n",
       "      <td>USA</td>\n",
       "      <td>Florida</td>\n",
       "      <td>Daytona Beach, Volusia County</td>\n",
       "      <td>Standing</td>\n",
       "      <td>male</td>\n",
       "      <td>M</td>\n",
       "      <td>12</td>\n",
       "      <td>Minor injury to foot</td>\n",
       "      <td>N</td>\n",
       "      <td>14h00</td>\n",
       "      <td>NaN</td>\n",
       "    </tr>\n",
       "  </tbody>\n",
       "</table>\n",
       "</div>"
      ],
      "text/plain": [
       "    Case-Number         Date  Year        Type Country        Area  \\\n",
       "0    2018.06.25  25-Jun-2018  2018     Boating     USA  California   \n",
       "1    2018.06.18  18-Jun-2018  2018  Unprovoked     USA     Georgia   \n",
       "2    2018.06.09  09-Jun-2018  2018     Invalid     USA      Hawaii   \n",
       "8  2018.05.26.b  26-May-2018  2018  Unprovoked     USA     Florida   \n",
       "9  2018.05.26.a  26-May-2018  2018  Unprovoked     USA     Florida   \n",
       "\n",
       "                         Location  Activity             Name Sex Age  \\\n",
       "0     Oceanside, San Diego County  Paddling      Julie Wolfe   F  57   \n",
       "1  St. Simon Island, Glynn County  Standing  Adyson McNeely    F  11   \n",
       "2                    Habush, Oahu   Surfing      John Denges   M  48   \n",
       "8    Cocoa Beach, Brevard  County   Walking        Cody High   M  15   \n",
       "9   Daytona Beach, Volusia County  Standing             male   M  12   \n",
       "\n",
       "                                              Injury Fatal           Time  \\\n",
       "0  No injury to occupant, outrigger canoe and pad...     N          18h00   \n",
       "1                         Minor injury to left thigh     N  14h00  -15h00   \n",
       "2       Injury to left lower leg from surfboard skeg     N          07h45   \n",
       "8                              Lower left leg bitten     N          17h00   \n",
       "9                               Minor injury to foot     N          14h00   \n",
       "\n",
       "          Species  \n",
       "0     White shark  \n",
       "1             NaN  \n",
       "2             NaN  \n",
       "8  Bull shark, 6'  \n",
       "9             NaN  "
      ]
     },
     "execution_count": 469,
     "metadata": {},
     "output_type": "execute_result"
    }
   ],
   "source": [
    "shark_copy3.head(5)"
   ]
  },
  {
   "cell_type": "code",
   "execution_count": 472,
   "metadata": {},
   "outputs": [
    {
     "name": "stderr",
     "output_type": "stream",
     "text": [
      "<ipython-input-472-716115a3b3a3>:1: SettingWithCopyWarning: \n",
      "A value is trying to be set on a copy of a slice from a DataFrame.\n",
      "Try using .loc[row_indexer,col_indexer] = value instead\n",
      "\n",
      "See the caveats in the documentation: https://pandas.pydata.org/pandas-docs/stable/user_guide/indexing.html#returning-a-view-versus-a-copy\n",
      "  shark_copy3['Time'] = shark_copy3['Time'].astype('object')\n"
     ]
    },
    {
     "data": {
      "text/plain": [
       "Case-Number    object\n",
       "Date           object\n",
       "Year           object\n",
       "Type           object\n",
       "Country        object\n",
       "Area           object\n",
       "Location       object\n",
       "Activity       object\n",
       "Name           object\n",
       "Sex            object\n",
       "Age            object\n",
       "Injury         object\n",
       "Fatal          object\n",
       "Time           object\n",
       "Species        object\n",
       "dtype: object"
      ]
     },
     "execution_count": 472,
     "metadata": {},
     "output_type": "execute_result"
    }
   ],
   "source": [
    "shark_copy3['Time'] = shark_copy3['Time'].astype('object')\n",
    "shark_copy3.dtypes"
   ]
  },
  {
   "cell_type": "markdown",
   "metadata": {},
   "source": [
    "### Type"
   ]
  },
  {
   "cell_type": "code",
   "execution_count": 136,
   "metadata": {},
   "outputs": [],
   "source": [
    "#Cambiar Boatomn y boat por boating \n",
    "#shark.Type.unique()"
   ]
  },
  {
   "cell_type": "code",
   "execution_count": 473,
   "metadata": {},
   "outputs": [
    {
     "name": "stderr",
     "output_type": "stream",
     "text": [
      "<ipython-input-473-4ae522e11af5>:1: SettingWithCopyWarning: \n",
      "A value is trying to be set on a copy of a slice from a DataFrame\n",
      "\n",
      "See the caveats in the documentation: https://pandas.pydata.org/pandas-docs/stable/user_guide/indexing.html#returning-a-view-versus-a-copy\n",
      "  shark_copy3.dropna(subset = [\"Type\"], inplace=True)\n"
     ]
    },
    {
     "data": {
      "text/plain": [
       "array(['Boating', 'Unprovoked', 'Invalid', 'Questionable', 'Provoked',\n",
       "       'Boat', 'Sea Disaster'], dtype=object)"
      ]
     },
     "execution_count": 473,
     "metadata": {},
     "output_type": "execute_result"
    }
   ],
   "source": [
    "shark_copy3.dropna(subset = [\"Type\"], inplace=True)\n",
    "shark_copy3.Type.unique()"
   ]
  },
  {
   "cell_type": "markdown",
   "metadata": {},
   "source": [
    "### Year"
   ]
  },
  {
   "cell_type": "code",
   "execution_count": 135,
   "metadata": {},
   "outputs": [],
   "source": [
    "##Quitar el punto al final, eliminar de 1900 para atras\n",
    "##shark.Year.unique()"
   ]
  },
  {
   "cell_type": "code",
   "execution_count": 130,
   "metadata": {},
   "outputs": [
    {
     "data": {
      "text/plain": [
       "array([2018.0, 2017.0, 2016.0, 2015.0, 2014.0, 2013.0, 2012.0, 2011.0,\n",
       "       2010.0, 2009.0, 2008.0, 2007.0, 2006.0, 2005.0, 2004.0, 2003.0,\n",
       "       2002.0, 2001.0, 2000.0, 1999.0, 1998.0, 1997.0, 1996.0, 1995.0,\n",
       "       1984.0, 1994.0, 1993.0, 1992.0, 1991.0, 1990.0, 1989.0, 1988.0,\n",
       "       1987.0, 1986.0, 1985.0, 1983.0, 1982.0, 1981.0, 1980.0, 1979.0,\n",
       "       1978.0, 1977.0, 1976.0, 1975.0, 1974.0, 1973.0, 1972.0, 1971.0,\n",
       "       1970.0, 1969.0, 1968.0, 1967.0, 1966.0, 1965.0, 1964.0, 1963.0,\n",
       "       1962.0, 1961.0, 1960.0, 1959.0, 1958.0, 1957.0, 1956.0, 1955.0,\n",
       "       1954.0, 1953.0, 1952.0, 1951.0, 1950.0, 1949.0, 1948.0, 1947.0,\n",
       "       1946.0, 1945.0, 1944.0, 1943.0, 1942.0, 1941.0, 1940.0, 1939.0,\n",
       "       1938.0, 1937.0, 1936.0, 1935.0, 1934.0, 1933.0, 1932.0, 1931.0,\n",
       "       1930.0, 1929.0, 1928.0, 1927.0, 1926.0, 1925.0, 1924.0, 1923.0,\n",
       "       1922.0, 1921.0, 1920.0, 1919.0, 1918.0, 1917.0, 1916.0, 1914.0,\n",
       "       1912.0, 1911.0, 1910.0, 1909.0, 1907.0, 1906.0, 1905.0, 1902.0,\n",
       "       1901.0, 1900.0, 1899.0, 1898.0, 1897.0, 1896.0, 1895.0, 1894.0,\n",
       "       1893.0, 1892.0, 1891.0, 1890.0, 1889.0, 1888.0, 1887.0, 1886.0,\n",
       "       1885.0, 1884.0, 1883.0, 1882.0, 1881.0, 1880.0, 1878.0, 1877.0,\n",
       "       1874.0, 1872.0, 1871.0, 1868.0, 1865.0, 1864.0, 1863.0, 1862.0,\n",
       "       1861.0, 1860.0, 1858.0, 1852.0, 1849.0, 1841.0, 1837.0, 1830.0,\n",
       "       1829.0, 1826.0, 1817.0, 1784.0, 1783.0, 1703.0, 0.0], dtype=object)"
      ]
     },
     "execution_count": 130,
     "metadata": {},
     "output_type": "execute_result"
    }
   ],
   "source": [
    "shark_copy.dropna(subset = [\"Year\"], inplace=True)\n",
    "shark_copy.Year.unique()"
   ]
  },
  {
   "cell_type": "markdown",
   "metadata": {},
   "source": [
    "### Date"
   ]
  },
  {
   "cell_type": "code",
   "execution_count": 134,
   "metadata": {},
   "outputs": [],
   "source": [
    "##Tratar de separar la fecha y comparar el ano con el Year\n",
    "#shark.Date.unique()"
   ]
  },
  {
   "cell_type": "code",
   "execution_count": 131,
   "metadata": {},
   "outputs": [
    {
     "data": {
      "text/plain": [
       "array(['25-Jun-2018', '18-Jun-2018', '09-Jun-2018', ..., '1960s',\n",
       "       '1941-1945', '1941-1942'], dtype=object)"
      ]
     },
     "execution_count": 131,
     "metadata": {},
     "output_type": "execute_result"
    }
   ],
   "source": [
    "shark_copy.dropna(subset = [\"Date\"], inplace=True)\n",
    "shark_copy.Date.unique()"
   ]
  },
  {
   "cell_type": "markdown",
   "metadata": {},
   "source": [
    "### Species"
   ]
  },
  {
   "cell_type": "code",
   "execution_count": 133,
   "metadata": {},
   "outputs": [],
   "source": [
    "#shark.Species .unique()"
   ]
  },
  {
   "cell_type": "code",
   "execution_count": 132,
   "metadata": {
    "collapsed": true,
    "jupyter": {
     "outputs_hidden": true
    }
   },
   "outputs": [
    {
     "data": {
      "text/plain": [
       "array(['White shark', 'Tiger shark', \"Bull shark, 6'\", 'Grey reef shark',\n",
       "       'Invalid incident', 'Shark involvement not confirmed',\n",
       "       'Questionable', '3 m shark', 'White shark, 3.5 m',\n",
       "       'White shark, 2.5 m', '2 m shark', 'Bull shark',\n",
       "       \"Tiger shark, 12'\", 'Wobbegong shark', '3.5 m shark',\n",
       "       '1.8 m shark', 'Juvenile white shark,  2.7 to 3.2 m',\n",
       "       'Bull shark, 2 m', 'Possibly a wobbegong', 'Bull shark, 3 m ',\n",
       "       'Grey reef shark. 2 m', 'small shark', 'White shark, 4.6 m',\n",
       "       'Wobbegong shark, 1 m', 'White shark, 4.5 m',\n",
       "       'Spinner shark, 4 to 5 feet', 'Tiger shark, 8 to 10 feet',\n",
       "       \"8' shark\", \"5' shark\", \"4' to 5' shark\", \"5' to 6' shark\",\n",
       "       'White shark, 3 to 3.5m ', 'White shark, 3 m',\n",
       "       'Shark involvement questionable', \"White shark, 5' to 7'\",\n",
       "       'Possibly a juvenile blacktip shark', \"4' shark\",\n",
       "       \"White shark, 10'\", 'A small shark', \"Blue shark 6'\",\n",
       "       '\"A small shark\"', \"White shark, 11' to 13'\",\n",
       "       \"White shark, 8' to 10'\", \"White shark, 9'\",\n",
       "       \"Bull shark, 4' to 5'\", 'No shark invovlement ', 'Bull shark, 2m',\n",
       "       'White shark, 4 m', 'Seven-gill shark',\n",
       "       'Shark involvement highly doubtful', \"Bull shark, 5' to 7'\",\n",
       "       'Bull shark, 1.5', 'Lemon shark pup', 'Bull shark, 4 m',\n",
       "       'Bull shark, 1 m', 'a small shark', 'Wobbegong shark, 2m',\n",
       "       'Broadnose sevengill shark, 1.5 m', \" 6' to 8' shark\",\n",
       "       \"3' to 4' shark\", \"Tiger shark, 10'\", 'Bull shark, 3.5 m',\n",
       "       \"Tiger shark, 10' \", 'Blue shark', 'reef shark, 1m',\n",
       "       \"White shark, 10' to 12'\", 'dogfish shark', 'Tawny nurse shark',\n",
       "       \"Caribbean reef shark, 4.5'\", \"3' to 5' shark\", \"3' shark\",\n",
       "       \"Said to involve an 8' shark but more likely damage caused by debris\",\n",
       "       '3+ m shark', 'Mako shark', \"Blacktip shark, 4'\",\n",
       "       \"Nurse shark, 2'\", \"Mako shark, 1.5 m [5'] \",\n",
       "       'Grey reef shark, 2 m', 'Tiger shark, 2.5 m', 'Bronze whaler',\n",
       "       'No shark involvement', \"Reef shark, 5'\", 'Bull sharks x 2',\n",
       "       \"Tiger shark, 14'\", 'Blacktip shark', \"9' shark\",\n",
       "       \"Bronze whaler shark, 6'\", 'Galapagos shark',\n",
       "       'Bull shark, 2.8 to 3.1 m', \"Spinner shark, 5'\", \"Tiger shark, 7'\",\n",
       "       'Hammerhead sp.', \"Tiger shark, 13' \", \"Blacktip shark, 4' to 5'\",\n",
       "       \"Blacktip shark, 5' to 6'\", \"White shark, 19'\", 'juvenile shark',\n",
       "       \"Tiger shark, 13'\", \"6' shark\", \"White shark, 11' to 12'\",\n",
       "       'Hammerhead shark.', \"4' shark?\", \"White shark, 10' to 12' \",\n",
       "       \"White shark, 13'\", \"Hammerhead shark. 6' to 7'\",\n",
       "       \"Blacktip or spinner shark, 4'\",\n",
       "       \"Thought to involve a 3' to 4' shark, but shark involvement not confirmed\",\n",
       "       'White shark, 3.9 to 4.2 m', \"White shark, 7'\", \"6' to 7' shark\",\n",
       "       'White shark, 2m to 3 m', 'Sandtiger shark', \"Bull shark, 5'\",\n",
       "       'Bull shark, 2.5 m', '1m to 1.2 m shark', '3- to 4-foot shark',\n",
       "       'White shark, 6 m', 'Tiger shark, 8 to 12 feet',\n",
       "       'Tiger shark, 3.5 m', '3.5 to 4 m shark', '2 m to  3 m shark',\n",
       "       'Bull shark, 1.3 m', '5 m shark',\n",
       "       'White shark or oceanic whitetip shark',\n",
       "       'Raggedtooth shark, 1.3 m', 'White shark, 4 to 5 m',\n",
       "       'Shark involvement not confirmed & highly unlikely', '1.5 m shark',\n",
       "       \"2' shark\", \"12' to 14' shark\", '1 m shark',\n",
       "       \"White shark, 18' to 20'\", \"8' to 10' shark\",\n",
       "       '2 white shark: 13\\' & 9\"8\"', \"7' shark\",\n",
       "       \"White shark, 12' to 14'\", 'Spinner shark', \" Bull shark, 8'\",\n",
       "       \" Bull shark, 5'\", \"4' tp 5' shark\", '1.8 metre shark',\n",
       "       \"6' to 8' shark\", \" White shark, 7' \",\n",
       "       \"Caribbean reef shark, 7' to 8'\", \" Sandbar shark, 3' to 4'\",\n",
       "       'Bronze whaler shark, 1.5m', '3m shark', \" white shark, 15' \",\n",
       "       ' Raggedtooth shark, 2m', '3 m to 4 m white shark',\n",
       "       'Shark involvement prior to death not confirmed',\n",
       "       'Blacktip reef shark ', '7-gill shark?',\n",
       "       'Reported to involve a bull shark', 'White shark, 3m ',\n",
       "       \"Tiger shark, 10' to 12'\", \"4' to 6' shark\",\n",
       "       ' Wobbegong shark, 1.6 to 1.8m ', 'Tiger shark, 3m ',\n",
       "       'Thought to involve a white shark', \"White shark, 10 '\",\n",
       "       'Reported to involve a white shark', 'Blacktip reef shark, 1m',\n",
       "       'Thought to involve a bull shark',\n",
       "       'Reported to involve a 4 m white shark',\n",
       "       \"Whitetip reef shark, 4' to 6'\", 'Nurse shark?',\n",
       "       'Small bull shark', 'Salmon shark', \"Mako shark, 5'\",\n",
       "       'Tiger shark?', \"Bull shark, 8'\", \"Bull shark, 6' to 8'\",\n",
       "       \"Tiger shark, 8' to 10' \", 'Nurse shark', 'Grey nurse shark, 3m',\n",
       "       'Possibly a blacktip reef shark', 'Raggedtooth shark, 1.5 m',\n",
       "       'Tiger shark, 4.8 m', 'Bronze whaler shark, 2.5m',\n",
       "       'White shark, 4m', 'reef shark?', 'Lemon shark',\n",
       "       \"Tiger shark, 15'\", '2.5 m shark', 'Bull shark, 2m ',\n",
       "       \"Tiger shark, 6'\", \"10' shark\", \"2' to 3' shark\",\n",
       "       \"Tiger shark, 8'\", \"Tiger shark, 10' to 12' \",\n",
       "       \"White shark, 15' to 16' \", '2m shark', \"3.5' to 4' shark\",\n",
       "       '4.5 m shark', \"Lemon shark, 4' to 5' \",\n",
       "       'White shark or bronze whaler', 'White shark, 5m',\n",
       "       \"14' to 18'shark\", \"15' shark\", 'possibly a bull shark',\n",
       "       'a small reef shark', 'small blacktip shark?', 'Blacktip shark ',\n",
       "       'Blue shark, 2.5m', 'White shark, 2 m', '18\" to 24\" shark',\n",
       "       'Bull shark, 3m', \"Tiger shark, 8' to 9' \",\n",
       "       'White shark, 4 m to 5m ', \"Tiger shark, 10'  \",\n",
       "       'White shark, 4m ', 'Possibly a bull shark',\n",
       "       \"Possibly a 5' to 6' bull shark\", 'Tawny nurse shark, 40cm',\n",
       "       'Grey nurse shark', 'Tiger shark, 3m', 'White shark, 2.7 m',\n",
       "       'Allegedly a 4 m tiger shark', 'White shark, 2.5m',\n",
       "       'Wobbegong shark?', 'Port Jackson shark, 1m', '2 to 2.5 m shark',\n",
       "       'Tiger shark, 2m', \"6' shark, possibly a blactip or spinner shark\",\n",
       "       \"White shark, >6'\", \"Possibly a 5' to 6' sandtiger shark\",\n",
       "       '4 m shark', 'Grey reef shark ', 'White shark, 3m to 4m',\n",
       "       'Bull shark, 3m female', \"White shark, 5' k\", 'Zambesi shark',\n",
       "       ' Tiger shark, 2.8m', 'reef shark, 1.5m', \"1' to 2' shark\",\n",
       "       'possibly a bronze whaler shark', ' Bull shark, 2.5 m',\n",
       "       'Bull shark, 2.5m', '3 m to 4 m shark', 'White shark x 2',\n",
       "       'Caribbean reef shark', 'Oceanic whitetip shark, 2.5m ',\n",
       "       'Mako shark ', 'Oceanic whitetip shark, 2.5m, female',\n",
       "       \"Porbeagle shark, 8' \", \"White shark, 14' to 18' \",\n",
       "       'Bull shark, 1.4m ', \"Possibly a 6' lemon shark\",\n",
       "       \"White shark, 15'\", 'Possibly a small blacktip shark',\n",
       "       \"Sandtiger shark, 4' to 5'\", 'Angel shark', \"Blue shark, 7'\",\n",
       "       \"Lemon shark, 4'\", '20 to 30kg shark', \"Lemon shark, 6'\",\n",
       "       \"14' shark\", \"Oceanic whitetip shark, 6'\", 'Possibly a blue shark',\n",
       "       'Wobbegong shark, 1.6m', \"Spinner shark, 6'\", 'Invalid',\n",
       "       'Zambesi shark, 2m ', \"Sandtiger shark, 8'\", 'Thresher shark',\n",
       "       'Spurdog', \"White shark, 5' to 6' juvenile \", 'White shark, 2m',\n",
       "       'Tiger shark, 12', 'Bull shark?', \"Nurse shark, 6'\",\n",
       "       'Thought to involve a Bronze whale shark, 2m',\n",
       "       'Shark involvement probable, but not confirmed',\n",
       "       'Oceanic whitetip shark, 2.5 to 3m', '80 kg shark',\n",
       "       \"5' to 8' shark\", 'blacktip or spinner shark',\n",
       "       \"White shark, 12' to 15' female\", 'Bronze whaler shark?',\n",
       "       'Thought to involve a cookie cutter shark', 'Blue shark, 1m',\n",
       "       '2.6 m shark', 'White shark, 2.5m ', 'Bull shark, 2.7 m ',\n",
       "       \"White shark, 12' \", 'White shark, 5.5 m ', 'Dusky shark, 2m',\n",
       "       'White shark, 3.5m', 'Broadnose sevengill shark',\n",
       "       'White shark, 4m to 5m ', '4 to 5m white shark',\n",
       "       'Raggedtooth shark, 2m', 'White shark, 4.5 to 5 m ',\n",
       "       'Oceanic whitetip shark', '5 m white shark', \"+3' shark\",\n",
       "       'Bronze whaler shark', \"2' to 3' juvenile shark\",\n",
       "       \"White shark, 14' to 16' \",\n",
       "       \"8' bull shark or Caribbean reef shark\",\n",
       "       \"8' white shark or 7-gill shark\", \"3'  shark\",\n",
       "       \"2' to 3' reef shark\", \"Bull shark, 6' to 7'\", \"4.5 to 5' shark\",\n",
       "       '2 small bull sharks', 'Bull shark, 1.8m',\n",
       "       \"White shark, 12' to 15'\",\n",
       "       'Reported by media as shark attack, but shark involvement prior to death was not confirmed',\n",
       "       'Shark involvement not confirmed; thought to be a barracuda bite',\n",
       "       \"1.5' to 2' shark\", \"2.5' shark\",\n",
       "       'A bull shark, according to some of the divers on the boat',\n",
       "       'Mako shark, 90kg', 'Bronze whaler shark, 4m',\n",
       "       'Not a shark attack; it was a hoax', '1.5 to 2 m shark',\n",
       "       \"Blacktip shark, 5'\",\n",
       "       'Oceanic whitetip sharks were in the vicinity', 'Gray reef shark',\n",
       "       \"9.5' shark?\", \"Nurse shark, 2' to 3' \",\n",
       "       'Possibly a spinner shark', \"White shark, 12'\",\n",
       "       \"Possibly a 6' bull shark\", ' ', \"Possibly a 10' bull shark\",\n",
       "       'Bronze whaler shark, 1.5 m ', \"Bull shark, 5' \",\n",
       "       'A 10-year-old 94-pound pregnant blacktip reef shark',\n",
       "       'Lesser spotted dogfish, Scyliorhinus canicula, less than 80 cm in length',\n",
       "       'Shark involvement prior to death was not confirmed',\n",
       "       \"Tiger shark, 14' \", '\"a small shark\"', 'White shark, 3m',\n",
       "       '2.4 m shark', '24\" to 30\" shark',\n",
       "       \"6' to 8' shark, possibly a tiger shark\", '2.5 to 3 m shark',\n",
       "       '2 to 3 m shark', \"White shark, 12' to 15' \",\n",
       "       'Raggedtooth shark, 150-kg', 'White shark, 5m ',\n",
       "       '2 m to 3 m shark', 'Bull shark, 1.5m ', \"White shark, 16' \",\n",
       "       \"3' to 3.5' shark\", 'White shark?',\n",
       "       'Thought to involve a mako shark, but possibly a sea lion',\n",
       "       'Angel shark, 1.2m ', \"5' to 6' spinner or bull shark\",\n",
       "       \"Possibly a 1' to 3' blacktip or spinner shark\", \"14' white shark\",\n",
       "       \"Tiger shark, 8' to 12'\", \"Tiger shark, 15' female\",\n",
       "       \"Grey reef shark, 5' to 8' \", 'Wobbegong shark, 2 m ',\n",
       "       \"Bull shark, 4' to bull shark\",\n",
       "       'Bronze whaler shark, a  juvenile ',\n",
       "       'Raggedtooth shark, 2.5 m to 3 m ', \"Tiger shark, 5' \",\n",
       "       'Bronze whaler shark, 2 m', \"5' to 7' shark\", '4.5 m white shark',\n",
       "       'Raggedtooth shark', \"12' to 18' shark\", '3.5 m white shark',\n",
       "       'Whitetip reef shark', '4 m white shark',\n",
       "       'Raggedtooth shark, 2.5m ', \"12' to 14' white shark\",\n",
       "       \"18' white shark\", \"Tiger shark, less than 10'\",\n",
       "       'Caribbean reef sharks', \"14' to 16' white shark\",\n",
       "       \"4 m [13'] white shark\", 'juvenile white shark',\n",
       "       'Possibly a sandbar shark or small blacktip shark',\n",
       "       \"1.8 m [6'] shark\", \"[4.5' to 5'] shark\", \"[4' to 5']\",\n",
       "       \"1.8 m [6'] bull shark\",\n",
       "       'On 8/13/2005 anglers from New Zealand caught a 2.8 m [9\\'3\"], 140-kg [309-lb] shark at the same spot. It was believed this was the same shark that killed Alysha',\n",
       "       'Unknown, but it was reported that a shark tooth was recovered from the wound',\n",
       "       \"Mr. Burgess of ISAF announced the injury was the bite of a 1.8 m [6'], 2- to 3-year old white shark. Subsequent investigation revealed there was  no shark involvement in this incident\",\n",
       "       '\"small shark\"', '18\" to 36\" shark', \"Tiger shark, 3 m [10']\",\n",
       "       \"4 m [13'] shark\", \"6 m [20'] white shark\",\n",
       "       \"Sandtiger shark, 2.1 m [7'] \",\n",
       "       \"Bronze whaler shark, 4.3 m [14'] \", \"Tiger shark, 2.4 m [8']\",\n",
       "       \"Bronze whaler shark, 2 m to 3 m [6.75' to 10']  \",\n",
       "       '4.5 m & 5 m white shark ', \"5.5 m [18'] white shark\",\n",
       "       \"2.5 m [8.25'] bull shark\", \"2 m [6.75'] white shark\",\n",
       "       \"Bronze whaler shark, 2.4 m [8'] \",\n",
       "       \"1.8 m to 2.4 m [6' to 8'] white shark\",\n",
       "       \"Tiger shark, 2.4 m to 3.7 m [8' to 12'] \",\n",
       "       \"Raggedtooth shark, 1.5 to 2 m [5' to 6.75']\",\n",
       "       'Thought to involve a 2.5 m bull or tiger shark',\n",
       "       \"Tiger shark, 3 m [10'] \", \"2.4 m [8'] shark\",\n",
       "       'Tiger shark, 1.5 m ', \"0.9 m to 1.2 m [3' to 4'] white shark\",\n",
       "       \"4.9 m to 5.5 m [16' to 18'] white shark\", \"1.2 m [4'] shark\",\n",
       "       \"1.2 m to 1.5 m [4' to 5'] shark\", '2 sharks, 4.5 m & 3 m ',\n",
       "       '9\\'2\" white shark', \"Bronze whaler shark, 2.5 m [8.25'] \",\n",
       "       \"0.9 m to 1.5 m [3' to 5'] shark\",\n",
       "       \"2.4 m to 3.7 m [8' to 12'] shark\",\n",
       "       \"1,5 m [5'] Caribbean reef shark (Carcharhinus  perezi)\",\n",
       "       \"Mako shark, 1.8 m [6']\", \"Wobbegong shark, 1.2 m [4'] k\",\n",
       "       \"5 m [16.5'] white shark\", \"1.2 m [4'] bull shark\", 'bull shark',\n",
       "       \"Tiger shark, 2.4 m to 3 m [8' to 10'] \",\n",
       "       \"2 m [6.75'] sevengill  shark\",\n",
       "       \"4 m to 5 m [13' to 16.5'] white shark\",\n",
       "       'Bull shark, 1.65 m [5\\'5\"] was speared & killed',\n",
       "       'Bull shark, 132-kg [291-lb] ',\n",
       "       \"Raggedtooth shark, 3.5 m [11.5'] \",\n",
       "       \"Wobbegong shark, 1.2 m [4'] \", \"Tiger shark, 4 m [13']  ?\",\n",
       "       \"1.5 m [5'] shark, either a bronze whaler or a grey nurse shark\",\n",
       "       '1.2 m [4\\'] \"grey-colored shark\"', '2 m cow shark',\n",
       "       'Shark involvement doubtful',\n",
       "       \"4.5 m to 5.5 m [15' to 18'] white shark\",\n",
       "       \"3.5 m [11.5'] white shark\", 'Unidentified species',\n",
       "       \"2.1 m  [7'] bull shark\", \"106 cm [3.5']  shark\",\n",
       "       '\\x93small brown shark\\x94', \"3.7 m to 4.3 m [12' to 14'] shark\",\n",
       "       '\"sand shark\"',\n",
       "       \"1.8 m [6'] reef shark - or a 2.1 m to 2.4 m [7' to 8'] grey-colored shark\",\n",
       "       \"0.9 m to 1.2 m [3' to 4'] shark\", 'A \\x93small\\x94 shark',\n",
       "       '15 cm to 20 cm [6\" to 8\"] bite diameter just below left knee',\n",
       "       \"Mako shark, 3 m [10']\", \"2.5 m [8.25'] white shark\",\n",
       "       'Species unidentified',\n",
       "       \"Thought to involve a 2 m [6.75'] grey nurse shark\",\n",
       "       \"Thought to involve a >2 m [6.75'] bull shark\",\n",
       "       'White shark, 4 m white shark',\n",
       "       \"3 m to 4.5 m [10' to 15'] white shark\",\n",
       "       \"2.4 m to 3 m [8' to 10'] grey colored shark\",\n",
       "       \"1.8 m to 2.1 m [6' to 7']\\xa0 Caribbean Reef Shark \",\n",
       "       'Possibly a bull shark or tiger shark',\n",
       "       'Blacktip or spinner shark', \"3.5' to 4.5' shark\",\n",
       "       \"1.2 m [4'] blacktip shark\", \"1.8 m [6'] blacktip shark\",\n",
       "       \"Tiger shark, 1.5 m [5']k\", \"3 m to 3.7 m [10' to 12'] shark\",\n",
       "       'Bull or tiger shark', \"1' to 2' hammerhead or bonnethed shark\",\n",
       "       \"0.9 m  to 1.2 m [3' to 4'] shark\", \"Nurse shark, 1.5 m [5'] \",\n",
       "       \"1.2 m [4'] blacktip or sandbar shark\",\n",
       "       \"Bull shark, 1.8 m to 2.1 m [6' to 7'] \", 'Mako shark, 400-lb ',\n",
       "       \"1.2 m to 1.5 m [4' to 5'] shark, possibly a bull shark\",\n",
       "       \"Tiger shark, 2.4 m to 2.7 m [8' to 9']  \",\n",
       "       \"0.9 m to 1.2 m [3' to 4'] shark; Tooth fragment recovered from hand\",\n",
       "       '\\xa0 ', \"1.5 to 2.5 m [5' to 8.25'] copper shark\",\n",
       "       \"3.7 m to 4.3 m [12' to 14'] white shark\", '1 m  shark',\n",
       "       \"3' blacktip shark\", \"White shark, 6m [20']\",\n",
       "       'Bull shark, 400-lb ', \"0.9 m [3'] shark\", 'Nurse shark, 1m ',\n",
       "       \"Spinner shark, 3' to 4' \", '1.5 m [5\\'] \"whaler shark\"',\n",
       "       'C. leucas tooth fragment recovered from kayak', 'Zambesi shark?',\n",
       "       'Unidentified', \"Tiger shark, 1.8 m [6'] \",\n",
       "       \"Tiger shark, 1.8 m [6']\",\n",
       "       'Questionable incident - shark bite may have precipitated drowning',\n",
       "       \"2' to 3.5' shark\",\n",
       "       'A large white shark was filmed by divers on a local wreck 2 days prior to the incident.',\n",
       "       \"1.5 m [5'] shark\", \"3 m [10'] bull shark\",\n",
       "       'Possibly  a blacktip or spinner shark',\n",
       "       \"3' shark, possibly  a blacktip or spinner shark\",\n",
       "       \"Blacktip shark, 5' to 6' \", \"1.9 m [6.5'] bull shark\",\n",
       "       \"0.9 m  [3'] shark\", \"Bull shark, 2.3 m [7.5'] \",\n",
       "       \"White shark, 2.4 m to 3 m [8' to 10'] \",\n",
       "       'Possibly a juvenile blacktip or spinner shark',\n",
       "       \"Possibly a 1.5 m [5'] blacktip or spinner shark\",\n",
       "       '1 m shark, possibly whitetip reef shark',\n",
       "       \"White shark, 2.7 m [9'] \",\n",
       "       \"Bronze whaler shark, 2.5 m [8.25']  k\", \"6 m [20'] shark\",\n",
       "       \"1.2 m to 1.8 m [4' to 6'] shark\", \"White shark, 4.9 m [16'] \",\n",
       "       \"White shark, 5 m [16.5'] \",\n",
       "       \"Tiger shark, 1.8 m to 2.4 m [6' to 8'] \",\n",
       "       \"2.1 to 2.4 m [7' to 8'] shark\", \"Blacktip shark, 2' \",\n",
       "       \"White shark, 4.3 m [14']\",\n",
       "       \"White shark, 4 m to 5 m [13' to 16.5'] \", 'White shark, 2.5 m ',\n",
       "       \"60 cm to 90 cm [2' to 3'] shark\",\n",
       "       \"White shark, 3.5 m [11.5']  male \",\n",
       "       \"A 2' shark was seen in the area by witnesses\",\n",
       "       \"Thought to involve a 2.7 m [9'], 400-lb bull shark\",\n",
       "       'Tiger shark, 3.7 m to 4.5 m [12\\' to 14\\'9\"]  ',\n",
       "       \"Blacktip shark, 2.4 m to 3 m [8' to 10'] \",\n",
       "       'Shark involvement  not confirmed',\n",
       "       \"Tiger shark, 0.9 m to 1.5 m [3' to 5'] ?\",\n",
       "       \"Nurse shark, 1.2 m [4'] \",\n",
       "       \"0.9 m [3'] shark,  probably a blacktip or spinner shark\",\n",
       "       \"Bull shark, 2.4 m [8']\",\n",
       "       \"Blacktip shark, 1.2 m to 1.8 m [4' to 6'] \",\n",
       "       \"Tiger shark, 4 m [13'] ?\", \"2 m to 2.5 m [6.75'  to 8.25'] shark\",\n",
       "       \"Shortfin mako shark, 3 m to 3.4 m [10' to 11'] \",\n",
       "       '1.3 to 1.6 m shark', \"Lemon shark, 2.7 m [9'] \",\n",
       "       \"2.7 m [9']  bull shark or Caribbean reef shark\",\n",
       "       \"White shark, 3 m to 5 m [10' to 16.5'] \",\n",
       "       \"Bull shark, 2.1 m [7']\", \"Blacktip shark, 1.8 m [6'] \",\n",
       "       \"White shark, 4 m [13'] \", \"Tiger shark, 2.5 m [8.25']\",\n",
       "       'Grey reef shark, 1.5 m ', '3 bull sharks', '200 to 300 kg shark',\n",
       "       \"3.7 m to 4.6 m [12' to 15'] shark seen in the vicinity\",\n",
       "       'Bronze whaler or tiger shark', \"White shark, 4.6 m [15'] \",\n",
       "       'Possibly a white shark', 'A \"small shark\"',\n",
       "       'Though to involve a white shark',\n",
       "       \"White shark, 5 m to 6 m [16.5' to 20'] \",\n",
       "       \"Caribbean reef shark, 1.2 m to 1.5 m [4' to 5'] \",\n",
       "       \"White shark, 4.9 m [16']\",\n",
       "       'Thought to involve a 5.5 m white shark named Kong',\n",
       "       \"3 m to 4 m [10' to 13'] white shark\",\n",
       "       \"Lemon shark, 1.5 m [5'], identified  by the surfer\",\n",
       "       \"1.8 m [6'] shark, possibly a blacktip\", \"3 m [10'] shark\",\n",
       "       \"3 m [10'] white shark\", \"5' spinner shark\",\n",
       "       'Small dusky shark or blackfin shark',\n",
       "       \"Tiger shark, 4 m to 4.3 m [13' to 14'] \",\n",
       "       'Possibly a blacktip shark', 'small blacktip shark',\n",
       "       '\"juvenile shark\"', \"Tiger shark, 2.7m  [9']\",\n",
       "       \"1.2 m [4'] shark (spinner shark?)\", 'Possibly a sand shark',\n",
       "       'Tiger shark, 2m to 3m ', \"1.8 m to 2.1 m [6' to 7'] shark\",\n",
       "       'Tiger shark, 4.5 m [14\\'9\"]',\n",
       "       \"3 m to 5 m [10' to 16.5'] white shark\",\n",
       "       \"5.5 m to 6 m [18' to 20'] white shark\", '\"a young shark\"',\n",
       "       \"Tiger shark, 2.4 m [8'] \",\n",
       "       \"1.8 m to 2.1 m [6' to 7'] hammerhead shark\",\n",
       "       'said to involve an oceanic whitetip shark',\n",
       "       \"2.5 m [8.25'] white shark \",\n",
       "       \"60 cm to 90 cm [2' to 3'] blacktip or spinner shark\",\n",
       "       '\"reef shark\"', 'Possibly a tiger shark',\n",
       "       \"Mako shark, 4.3 m [14']\", 'Tiger shark, 300-kg [662-lb] ',\n",
       "       \"1.2 m to 1.5 m [4' to 5']   shark\",\n",
       "       \"1.5 to 1.8 m [5' to 6'] shark\", '\"sand\" shark',\n",
       "       \"Tiger shark, 3.7 m [12'] \", 'Bronze whaler shark, 2 m ',\n",
       "       \"5 m to 5.5 m [16.5' to 18'] white shark\", \"2.7 m [9'] shark\",\n",
       "       'Thought to involve a small sand shark', 'Small shark',\n",
       "       \"3 to 3.5 m [10' to 11.5'] bull shark\", \"1.2 m [4'] spinner shark\",\n",
       "       \">1.8 m [6'] shark\", '3.6 m [11\\'9\"] white shark',\n",
       "       '1.3 m [4\\'3\"] shark',\n",
       "       'Tiger shark caught 6 days later with diver\\x92s remains in its gut',\n",
       "       \">6 m [20'] white shark\",\n",
       "       \"1.8 m [6'] blacktip shark or Caribbean reef shark\",\n",
       "       '>6 m white shark, according to witnesses',\n",
       "       \"5.5 m to 6 m [18' to 20']  white shark\",\n",
       "       \"1.8 m to 2.4 m [6' to 8'] shark, tooth fragments recovered \",\n",
       "       'Thought to involve a tiger shark',\n",
       "       \"Remains recovered from 5.5 m [18'] white shark\",\n",
       "       \"Tiger shark, 3.7 m [12'], (tooth fragment recovered from wound)\",\n",
       "       \"Tiger shark, 3 m to 4.9 m [10' to 16'] \",\n",
       "       \"Mako shark, 1.8 m [6']  \", \"6' to 7' blacktip shark\",\n",
       "       '5 m to 6 m white shark', 'Unidentified shark',\n",
       "       \"Tiger shark, 3 m to 3.7 m [10' to 12'] \",\n",
       "       \"Tiger shark, 4.3 m [14'] \", '4.2 m white shark',\n",
       "       \"4 m to 5 m [13' to 16.5']  white shark \", 'Questionable incident',\n",
       "       'Bull shark or lemon shark',\n",
       "       'White shark, identification by K. Nakaya',\n",
       "       \"Tiger shark, 3 m to 4 m [10' to 13'] \",\n",
       "       \"4 m [13'], 590-kg white shark\", '>2 m shark',\n",
       "       \"5 m [16.5'] white shark, identification by K. Nakaya\",\n",
       "       \"Said to involve a 6 m to 7 m [20' to 23'] white shark\",\n",
       "       \"5 m [16.5'] shark\", '1.8 m grey shark',\n",
       "       \"Bronze whaler shark, 2.3 m [7.5'] \",\n",
       "       \"Zambesi shark, 1.7 m [5.5'] \",\n",
       "       \"Possibly a 1.5 m [5'] blacktip shark\",\n",
       "       \"Tiger shark, 2.4 m 3.4 m [8' to 11']  \",\n",
       "       \"5 m to 6 m [16.5' to 20'] white shark\",\n",
       "       \"3 m [10'], 270- kg [595-lb] shark\", 'sand shark',\n",
       "       \"Tiger shark, 3 to 4 m [10' to 13'] \",\n",
       "       \"2.7 m [9'] bull or lemon shark\", \"Tiger shark, >3 m [10']\",\n",
       "       '3.5 m [11.5\\'] female white shark named \"Notchfin\"',\n",
       "       '170-kg, 2.8 m shark', \"7' female shark\",\n",
       "       '\"Shark had a very large girth\"', \"1.8 m [6'] shark \",\n",
       "       \"4' spinner shark\", \"1.8 m to 2.4 m [6' to 8'] shark\",\n",
       "       \"5 m  [16.5'] white shark\",\n",
       "       \"2.5 m to 3 m [8.25' to 10']  white shark\",\n",
       "       '4.5 m [14\\'9\"] white shark',\n",
       "       \"5.5 m [18'] white shark, identified by witnesses & tooth marks\",\n",
       "       \"2.3 m [7.5'] white shark, identified by M. Smale\",\n",
       "       'Tiger shark, 3 m ',\n",
       "       \"Two sharks seen in vicinity: 2.4 m & 4.25 m  [8' & 14'] TL\",\n",
       "       \"2.7 m [9'] white shark\",\n",
       "       'Shark involvement suspected but not confirmed',\n",
       "       'White shark, identified by tooth pattern', '150-lb shark',\n",
       "       \"4 m to 5 m [13' to 16.5']  white shark\",\n",
       "       \">3.4 m [11'] white shark\", \"Bronze whaler shark, 3 m [10'] \",\n",
       "       '5 m to 7 m white shark', \"Tiger shark, 4 m [13'] \",\n",
       "       \"2.4 m to 3 m [8' to 10'] white shark\", 'Sand shark?',\n",
       "       \"1.5 m to 2 m [5' to 6.75'] shark\", '1 m \"grey-colored\" shark',\n",
       "       'Zambezi shark (tooth fragments recovered)', '1.5 m copper shark',\n",
       "       \"2 m [6.75'] shark\", \"3.5 m [11.5']  white shark\",\n",
       "       '5.7 m white shark', \"1.5 m [5'] blacktip shark\", '4.3 m shark',\n",
       "       \">2.5 m [8.25'] white shark\", \"Raggedtooth shark, 2.5 m [8.25'] \",\n",
       "       \"1.8 m to 2.1 m [6' to 7'] spinner or blacktip shark\",\n",
       "       \"Lemon shark, 1.8 m to 2.4 m [6' to 8'], tooth fragment recovered\",\n",
       "       '1.6 m shark', \"1.2 m [4'] dusky shark\", '>1 m shark',\n",
       "       \">2.4 m [8'] white shark\", \"Raggedtooth shark, 2 m [6.75'] \",\n",
       "       'Bronze whaler shark, 3.5 m ', '1m shark',\n",
       "       \"2 m to 2.5 m [6.75'  to 8.25'] sixgill or sevengill shark\",\n",
       "       '1.8 m silky shark', 'Possibly a small hammerhead shark',\n",
       "       '3 m to 3.6 m  [10\\' to 11\\'9\"] white shark',\n",
       "       '3.5 m white shark, tooth fragments recovered',\n",
       "       \"1.5 m [5'] dusky shark\", 'Tiger shark, 4 m ',\n",
       "       'Shark involvement not confirmed; officials considered barracua',\n",
       "       \"3 m to 4 m [10' to 13']  white shark\", 'Hammerhead shark?+O2356',\n",
       "       'small blue shark', '4.5 m to 5 m white shark',\n",
       "       '4.5 m to 5.5m white shark', \"2.4 m [8'] white shark\",\n",
       "       \"1.2 m to 1.5 m [4' to 5'] hammerhead shark\",\n",
       "       'Raggedtooth shark, 56-kg [123-lb] ', \" 1.5 m [5'] dusky shark\",\n",
       "       'Raggedtooth shark, 1 m ', 'Raggedtooth shark, >1 m ',\n",
       "       'Sand shark', \"6' to 8' bull shark\", \"Tiger shark, 5 m [16.5']\",\n",
       "       \"3.5' hammerhead shark\", \"6' blacktip shark\",\n",
       "       \"Raggedtooth shark, 1.5 m [5'] (tooth fragment recovered)\",\n",
       "       \"1.8 m [6'] Zambezi shark\",\n",
       "       'Believed to involve a 2.8 m [9\\'3\"] white shark',\n",
       "       'Questionable incident; reported as shark attack but thought to involve a pinniped instead ',\n",
       "       \"2.4 m [8'] white shark, species identity confirmed by tooth fragment\",\n",
       "       \"4.5 m to 5.5 m [14.7' to 18'] white shark\",\n",
       "       \"2.4 m [8'] white shark, species identity confirmed by witnesses & tooth pattern in surfboard\",\n",
       "       \"7 m [23'] white shark\",\n",
       "       'Said to involve a tiger shark or a hammerhead shark',\n",
       "       'Mako shark (tooth fragments recovered)',\n",
       "       \"Possibly a  1.8 m [6'] Zambezi shark\", '6 m  white shark',\n",
       "       \"Tiger shark, 2.1 m [7']\",\n",
       "       \"1.2 m to 1.5 m [4' to 5'] bull, sandbar or dusky shark\",\n",
       "       'C. maculpinnis or C. limbatus',\n",
       "       'Juvenile dusky or blacktip shark',\n",
       "       \"1.8 m to 2.4 m [6' to 8'] hammerhead shark\",\n",
       "       'Tiger shark, 2.5 m ', \"3.5 m [11.5'] shark\",\n",
       "       \"1.8 m [6'] white shark\", \"4' to 8' shark\",\n",
       "       '2.8 m [9\\'3\"] white shark', '2 m [6\\'9\"] Zambesi shark',\n",
       "       'Raggedtooth shark, 2 m [6\\'9\"] ', \"White shark, 2.5 m [8.25']  \",\n",
       "       \"White shark, 2.3 m [7.5'], tooth fragment recovered\",\n",
       "       \"White shark, 3.7 m [12'] \", '2 m [6\\'9\"] shark', '270 kg shark',\n",
       "       'Thought to involve a blacktip shark',\n",
       "       \"White shark, 5.5 m to 6 m [18' to 20']  \", 'Bull shark, 8',\n",
       "       \"White shark, 5.5 m [18'] \", \"White shark, 3 m [10'] k\",\n",
       "       \"2.1 m [7'] lemon shark or bull shark\",\n",
       "       \"White shark, 3 m to 4 m [10' to 13'] \",\n",
       "       \"White shark, 3.5 m [11.5'], species identity confirmed by tooth fragment\",\n",
       "       \"Tiger shark, 6' \", 'White shark, 4.5 m ',\n",
       "       \"White shark, 3 m [10'] \", 'Juvenile dusky shark',\n",
       "       'Shark involvement unconfirmed', \"White shark, 2.4 m [8']\",\n",
       "       \"White shark, 5.8 m [19'] \", 'White shark, 5m to 6m',\n",
       "       'White shark, 600-kg [1323-lb]',\n",
       "       \"White shark, 5.5 m to 6 m [18' to 20'] \",\n",
       "       'White shark, 4 m to 5 m ', \"Shortfin mako shark, 2.3 m [7.5'] \",\n",
       "       \"White shark, 5 m to 6 m [16.5 to 20'] \",\n",
       "       \"White shark, 5 m [16.5']\", \"Raggedtooth shark, 1.5 m [5'] \",\n",
       "       \"7' to 8' bull shark\",\n",
       "       '2 m shark, possibly a dusky or blacktip shark',\n",
       "       \"White shark, > 3 m [10']\", \"White shark, 6 m [20'] \",\n",
       "       \"4.5' shark\", \"White shark, 4.4 m to 5 m [14.5' to 16.5'] \",\n",
       "       \"White shark, 2.5 m [8.25'] \", \"White shark, 3 m [10']rk\",\n",
       "       '1.5 m to 2 m shark', \"White shark, 5 m to 6 m [16.5' to 20']  \",\n",
       "       \"Grey nurse shark, 11'\",\n",
       "       \"White shark, 3 m [10'], species identity confirmed by witnesses & tooth pattern in leg & board \",\n",
       "       'White shark according to tooth pattern and witnesses',\n",
       "       '1.8 to 2 m C. albimarginatus',\n",
       "       'Raggedtooth shark, 2 m [6\\'9\"], 5-year-old, captive female ',\n",
       "       \"White shark, 4.3 m 4.9 m [14' to 16'] \",\n",
       "       'White shark, identified by tooth fragments in surfboard',\n",
       "       '7-gill shark', \"Grey nurse shark, 10' \",\n",
       "       \"White shark, 4.3 m [14'], (tooth fragment recovered)\",\n",
       "       'a small hammerhead shark', \"4m [13'] shark\", 'Not authenticated',\n",
       "       \"2.7 m [9'] silky shark\", '\"Blue whaler\" (Galeolamna)',\n",
       "       \"1.5 m to 1.8m [5' to 6'] shark\",\n",
       "       \"1.5 m to 1.8 m [5' to 6'] shark\", \"5' blue shark\",\n",
       "       'Nurse shark, 106 cm, 28-lb, male ',\n",
       "       \"1.5 m to 1.8 m [5' to 6'] sandbar shark\", 'Nurse shark, 1 m ',\n",
       "       \"3.7 m [12'] shark\",\n",
       "       \"Bronze whaler shark, 2.1 m [7'], a tooth was embedded in the speargun \",\n",
       "       \"Mako shark, 1.9 m [6.5'] \", 'A pack of 6 sharks',\n",
       "       \"1.5 m to 2.1 m  [5' to 7'] shark\", 'Spinner or blacktip sharks',\n",
       "       \"Local authorities speculated that the water was too cold for sharks, but a 2.1 m [7'], 200-lb pregnant sandbar shark was caught next day\",\n",
       "       \"1.2 m [4'] hammerhead shark\",\n",
       "       'Believed white shark and other smaller species of sharks involved.',\n",
       "       \"White shark, 2.5 m [8.25'], an immature female, previously injured\",\n",
       "       'Copper shark', \"1.5 m to 1.8 m [5' to 6'] Zambesi shark\",\n",
       "       '1.8 m to 2 m [6\\' to 6\\'9\"] shark', 'Hammerhead shark',\n",
       "       \"Grey nurse shark, 2.4 m [8'] \", '300-kg [662-lb] shark',\n",
       "       'Tiger shark, tooth fragment recovered',\n",
       "       \"1.8 m [6'], 136-kg [300-lb] shark \", 'Raggedtooth shark ',\n",
       "       \"4.6 m [15'] shark\", \"2.1 m [7'] shark\",\n",
       "       \"White shark, 2.4 m [8'] \", \"Grey nurse shark, 1.8 m [6']\",\n",
       "       \"1.8 to 2.4 m [6' to 8'] shark\", \"1.7 m [5.5'] shark\",\n",
       "       \"White shark, 1.5 m [5'] k\",\n",
       "       \"White shark, 3 m to 3.7 m [10' to 12'] \",\n",
       "       'White shark, 3.6 m [11\\'9\"] ',\n",
       "       'White shark (tooth fragment recovered)',\n",
       "       \"2.1 m to 2.4 m  [7' to 8'] shark\", \"Zambesi shark, 1.8 m [6'] \",\n",
       "       \"1.8 m [6']  shark\", \"4.3 m [14'], 1000-lb shark\",\n",
       "       'Dusky shark, 1 m ', \"White shark, 1.7 m [5.5']\",\n",
       "       '300- to 400-lb Zambesi shark',\n",
       "       'Possibly a broadnose 7-gill shark', \">1.2 m [4'] tiger shark\",\n",
       "       \"Silky shark, 1.9 m [6.5']\",\n",
       "       'Dooley believed his Injury was caused by stingray (Dasyatidae family)',\n",
       "       '500-lb shark', \"White shark, 4 m [13'] rk\", \"5.5 m [18'] shark\",\n",
       "       'White shark, 3 m ',\n",
       "       'Hand found in gut of 2.9 m to 3.3 m [9\\'7\" to 10\\'11\"] Galapagos shark, C. galapagensis',\n",
       "       \"3.7 to 4.5 m [12' to 15'] shark seen in vicinity\",\n",
       "       \"White shark, 2.1 m [7'] \",\n",
       "       'Tooth fragments of \\x93whaler\\x94 shark were recovered, a bull shark, according to Edwards',\n",
       "       \"Grey nurse shark, 1.8 m [6'] \", 'Zambesi shark, 2 m [6\\'9\"] ',\n",
       "       \"White shark, 4.3 m [14'] (or bronze whaler)\",\n",
       "       \"White shark, 4.3 m to 4.9m [14' to 16']\",\n",
       "       \" Blacktip shark, C. maculipinnis. 1.9 m to 2.1 m [6.5' to 7'] \",\n",
       "       '\"A long thin brown-colored shark\"',\n",
       "       \"Horn shar,k Heterodontus francisci, 1.2 m [4'] \",\n",
       "       \"4.3 m [14'] shark\", 'Unknown', \"2.7 m to 3 m [9' to 10'] sharks\",\n",
       "       'Possibly a bronze whaler shark', \" Sevengill  shark, 1.2 m [4'] \",\n",
       "       \"Zambesi shark, 1.2 m [4'] \", '60 cm  shark ',\n",
       "       \"Bronze whaler shark, 2.1 m [7'] shark\", '36\"  shark',\n",
       "       \"Next morning a 3 m [10'] shark was caught that had Andrews' leg in its gut\",\n",
       "       'Oceanic whitetip shar,; identified by Dr. W.C. Schoeder on photograph & Dr. L.P. L. Schultz on sketch by observer',\n",
       "       \"1.5 m to 1.8 m  [5' to 6'] shark\",\n",
       "       \"Blacktip shark, 1.8 m to 2.1 m [6' to 7'] \", '43\" shark',\n",
       "       'Hammerhead shark, 500-llb ', 'Wobbegong shark, 1.4 m [4\\'6\"] ',\n",
       "       ' \"gummy\" shark (Rhizoprionodon or Loxodon) 1.2 m [4\\']',\n",
       "       \"Grey reef shark, 1.8 m [6'] grey reef shark, identified by Dr. L.P. L. Schultz based on photographs; identified as C. melanopterus by Stewart\",\n",
       "       '2\\' \"banjo shark\"', \"2.1 m [7'], 90-kg shark\",\n",
       "       \"Wobbegong shark, 1.5 m [5'] \",\n",
       "       'White shark, based on bite pattern',\n",
       "       \"Six Zambesi sharks seen to 1.5 m [5'] in length\",\n",
       "       \"White shark, 3 m [10'], tooth fragment from wounds identified as that of a white shark\",\n",
       "       'Grey nurse shark, 1m ',\n",
       "       'Lemon shark, 1164 mm, immature male, identified by  V.G. Springer',\n",
       "       \"Mako shark, 1.8 m to 2.1 m [6' to 7']  with hook & wire leader caught in mouth\",\n",
       "       \"Dusky shark, 2.7 m [9'] dusky shark C. obscurus identified by S. Springer on tooth recovered\",\n",
       "       \"White shark, 2.1 m [7']  based on tooth pattern\",\n",
       "       \"Bronze whaler shark, 3.7 m [12'] identified by G.P. Whitley based on description\",\n",
       "       \"1.2 m [4'], possibly  larger shark\", \"Two 2.1 m [7'] sharks\",\n",
       "       'According to Benjamin, the injury was inflicted by a barracuda, not a shark',\n",
       "       'Shark involvement prior to deaths was not confirmed',\n",
       "       \"4.9 m [16'] shark\", \"3.7 m to 4.6 m [12' to 15'] shark\",\n",
       "       \"3.7 m [12'] tiger shark\", \"2.4 m  [8'] shark\",\n",
       "       \"3 m to 4.3 m [10' to 14'] shark\", \"Blue shark, 1.5 m [5'] \",\n",
       "       \"White shark, 5 m [16.5'], identified by Dr. W. I. Follett on tooth marks\",\n",
       "       'A hammerhead shark, then 8 to 10 other sharks were said to be  involved',\n",
       "       'Said to involve white shark, but species identify questionable',\n",
       "       \"White shark, 3.5 m [11.5'], identified by W. I.  Follett on tooth fragments\",\n",
       "       \"Blue shark, 3 m [10']\", \"White shark, 3 m to 5 m [10' to 15'] \",\n",
       "       \"Hammerhead shark, 1.8 m [6'] S. zygena identified by C. Limbaugh on description\",\n",
       "       'Blue shark?',\n",
       "       \"Reported to involve a White shark, 6 m to 7m [20' to 23'] \",\n",
       "       \"White shark, 3 m [10']; identifed by Dr. W.I. Follett on tooth marks\",\n",
       "       \"Tiger shark, 3.7 m [12']\", \"1.8 to 2.1 m [6' to 7'] shark\",\n",
       "       \"Said to involve 2 sharks: 5.2 m & 6 m [17' & 20'] \",\n",
       "       \"White shark, 1.8 m to 2.1 m [6' to 7']  according to Shreuder and a witness\",\n",
       "       \"Tiger shark, 4.6 m to 7.6 m [15' to 25'] \", \"12' shark\",\n",
       "       '200-lb shark', \"Hammerhead shark, 5.2 m [17'] \",\n",
       "       \"Tiger shark, 1.5 m to 1.8 m [5' to 6'] \",\n",
       "       \"Sharks averaged 1.8 m [6'] in length\",\n",
       "       \"Nurse shark, 1.5 m [5']  identified by Dr. E. Clark on description of shark\",\n",
       "       'Tiger shark, <2 m TL',\n",
       "       \"Nurse shark, 2.1 m [7']  identified by Dr. E. Clark on color & tooth impressions\",\n",
       "       'Mako shark, 100-kg [221-lb] ', \">3 m [10'] shark\",\n",
       "       'Shark seen feeding on turtle scraps thrown overboard prior to incident.',\n",
       "       \"1.2 m  [4'] shark\",\n",
       "       \"2.4 m [8'] tiger shark caught 40 hours later with shorts of the boy in its gut\",\n",
       "       \"3.7 m [12'] shark & may have been another shark nearby\",\n",
       "       \"White shark, 5 m to 6 m [16.5' to 20] \",\n",
       "       '3.6 m  white shark  (or bronze whaler)',\n",
       "       \"Bronze whaler shark,3.7 m [12'] \",\n",
       "       \"Blacktip reef shark, 1.5 m [5'] \", '5m shark',\n",
       "       \"2.4 m [8']  shark\",\n",
       "       'White shark tooth fragment recovered from ankle & identified by Dr. W. I. Follett',\n",
       "       \"Said to involve a >4 m [13'] shark\",\n",
       "       \"3 m [10'] shark seen in vicinity\", \"10' to 12' shark\",\n",
       "       \"White shark,4.6 m [15'] \", \"Tiger shark, 1.5 m [5'] \",\n",
       "       'White shark, 2 m to 4 m [6\\'9\" to 13\\'] ',\n",
       "       'White shark, 15\\'3\", 2,333-lb ', 'a \"small slim brown shark\"',\n",
       "       \"White shark, 1.8 m [6'] \", \"Wobbegong shark, 4'\",\n",
       "       '136-kg [300-lb] shark',\n",
       "       'White shark, 3m, seen in area and hooked 3 days later',\n",
       "       '1,100-lb shark',\n",
       "       \"1.5 m to 1.8 m [5' to 6'] \\x93spear-eye\\x94 shark \",\n",
       "       \"White shark, 3.7 m [12']  according to witnesses\",\n",
       "       \"Tiger shark, 3.7 m to 4.3 m  [12' to 14']\",\n",
       "       \"2.7 m [9'] shark with black-tipped pectoral fins\",\n",
       "       '3.3 m [10\\'9\"] shark', \"Said to be 6.4 m [21'] shark\",\n",
       "       'Possibly C. leucas', '1.5 m, 45-kg shark',\n",
       "       \"Blacktip shark, 2 m [6.75'] \", '>1.6 m shark',\n",
       "       'White shark, 4.2 m [13\\'9\"] ',\n",
       "       'Thought to involve a Zambesi shark',\n",
       "       'White shark, according to witnesses',\n",
       "       'White shark, 2 m [6\\'9\"]  (Tooth fragment recovered from victim\\'s shoulder & identified by J.T. Nicholls)',\n",
       "       \"1.8 m to 2.4 m [6' to 8'] sharks, most were oceanic whitetip sharks\",\n",
       "       'White shark, 4.5 m  to 6 m [14\\'9\" to 20\\'] according to witnesses',\n",
       "       \"Bull shark, 4 m [13'] \",\n",
       "       \"Mako shark (aka bonito shark) 1.2 m [4'] \",\n",
       "       'White shark, species identity confirmed by tooth pattern',\n",
       "       'White shark, 160-kg [353-lb], identity confirmed by tooth pattern',\n",
       "       \"2.6 m [8.5'] shark landed 2 hours later\",\n",
       "       \"Nurse shark, 2.1 m [7']\", \"18' shark\",\n",
       "       'Tiger shark,  3.6 m [11\\'9\"], 850-kg [1874-lb] female, contained Girvan\\'s remains ',\n",
       "       \"Tiger shark, 9' to 10' \",\n",
       "       '2 days later a 600-lb shark was caught 100 yards from the site',\n",
       "       'White shark (identified by Dr. Hugh Smith) ',\n",
       "       \"Blue shark, 8' [2.4 m], 500-lb \", \"Tiger shark, 4.6 m [15'] \",\n",
       "       \"White shark, 3.5 m to 4 m [11.5' to 13'] \",\n",
       "       'A 6.5\\' \"blue-nosed shark\"', \"4.3 m [14'] shark seen in vicinity\",\n",
       "       \"4 m [13'] shark seen in vicinity\",\n",
       "       \"3.4 m [11']  tiger shark & a 5' shark\",\n",
       "       \"4.3 m [14'] shark seen in area previous week\",\n",
       "       'Thought to involve a mako or grey nurse shark',\n",
       "       \"Raggedtooth shark, 1.2 m to 1.5 m [4' to 5'] \",\n",
       "       'Shark involvement prior to death unconfirmed',\n",
       "       \"White shark 4.9 m [16'] \",\n",
       "       'White shark, 4.5 m [14\\'9\"], identity confirmed by witness & tooth pattern',\n",
       "       \"Grey nurse shark, 4' \",\n",
       "       \"Moreno\\x92s leg  & part of his swim suit found in 9' shark caught two hours after the attack. Identified as carcharhinid shark by L. Schultz & C. Limbaugh on photograph\",\n",
       "       \"White shark, 4.4 m [14.5'] . \", 'Grey nurse shark?',\n",
       "       \"Grey nurse shark, 4'\",\n",
       "       \"Said to involve 6 to 7 m [20' to 23'] white shark\",\n",
       "       \"1.5 m [5'] white shark or sevengill shark\",\n",
       "       \"According to Carlsmith, the shark's mouth was 3' wide\",\n",
       "       \"White shark, 3.7 m [12']  \", \"Tiger shark, 4 m [13'] female\",\n",
       "       'Said to be a \\x93small shark\\x94', '2.7 m [9\\'] \"blue\" shark',\n",
       "       \"White shark, 12', identity confirmed by tooth fragment, witness and photograph of captured shark \",\n",
       "       \"Comrades saw shark's tail appear about 5' away\",\n",
       "       \"3.7 m to 4.3 m [12' to 14']  shark\",\n",
       "       \"Thought to involve a 2.6 m [8.5'] white shark\",\n",
       "       '2.8 m [9\\'3\"] whaler shark captured 3 days later with his remains in its gut',\n",
       "       \"5.5' to 6' shark\", \"1.8 m to 2.7 m [6' to 9'] shark\", \"20' shark\",\n",
       "       '13\\'10\" shark',\n",
       "       'Unknown, but the shark was caught and put on exhibition',\n",
       "       \"13' shark\", '68\" shark', 'Wobbegongs',\n",
       "       'Identified as C. gangeticus by Dr. J. Fayrer', \"16' shark\",\n",
       "       'White sharks'], dtype=object)"
      ]
     },
     "execution_count": 132,
     "metadata": {},
     "output_type": "execute_result"
    }
   ],
   "source": [
    "shark_copy.dropna(subset = [\"Species\"], inplace=True)\n",
    "shark_copy.Species.unique()"
   ]
  },
  {
   "cell_type": "code",
   "execution_count": null,
   "metadata": {},
   "outputs": [],
   "source": []
  }
 ],
 "metadata": {
  "kernelspec": {
   "display_name": "Python 3",
   "language": "python",
   "name": "python3"
  },
  "language_info": {
   "codemirror_mode": {
    "name": "ipython",
    "version": 3
   },
   "file_extension": ".py",
   "mimetype": "text/x-python",
   "name": "python",
   "nbconvert_exporter": "python",
   "pygments_lexer": "ipython3",
   "version": "3.8.5"
  }
 },
 "nbformat": 4,
 "nbformat_minor": 4
}
